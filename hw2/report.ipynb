{
 "cells": [
  {
   "cell_type": "markdown",
   "metadata": {},
   "source": [
    "## Q1: How many convolutional layers are in the ResNet-18 model ?\n",
    "\n",
    "Ans - 17"
   ]
  },
  {
   "cell_type": "markdown",
   "metadata": {},
   "source": [
    "## Q2: What is the input dimension of the last linear layer ?\n",
    "\n",
    "Ans - 512"
   ]
  },
  {
   "cell_type": "markdown",
   "metadata": {},
   "source": [
    "## Q3: How many trainable parameters and how many gradients in the ResNet-18 model that you build when using SGD"
   ]
  },
  {
   "cell_type": "code",
   "execution_count": 1,
   "metadata": {},
   "outputs": [],
   "source": [
    "from resnet_test import *\n",
    "import torch\n",
    "from torch.optim import SGD,  Adam\n",
    "import torch.nn.functional as F\n",
    "\n",
    "\n",
    "\n",
    "def get_params(lis):\n",
    "    return sum(p.numel() for p in lis if p.requires_grad)\n",
    "\n",
    "def get_gradients(lis):\n",
    "    return sum(p.grad.numel() for p in lis if p.requires_grad)"
   ]
  },
  {
   "cell_type": "markdown",
   "metadata": {},
   "source": [
    "To get the number of  gradients, backprop needs to be done atleast once"
   ]
  },
  {
   "cell_type": "code",
   "execution_count": 4,
   "metadata": {},
   "outputs": [
    {
     "name": "stdout",
     "output_type": "stream",
     "text": [
      "Number of trainable parameters are 11173962\n",
      "Number of gradients are 11173962\n"
     ]
    }
   ],
   "source": [
    "net = ResNet18()\n",
    "\n",
    "inp = torch.ones(64, 3, 32, 32)\n",
    "labels = torch.ones(64).long()\n",
    "\n",
    "opt_sgd = SGD(net.parameters(), lr = 0.01)\n",
    "\n",
    "out = net(inp)\n",
    "loss = F.cross_entropy(out, labels)\n",
    "\n",
    "opt_sgd.zero_grad()\n",
    "loss.backward()\n",
    "opt_sgd.step()\n",
    "print('Number of trainable parameters are',get_params(opt_sgd.param_groups[0]['params']))\n",
    "print('Number of gradients are',get_gradients(opt_sgd.param_groups[0]['params']))"
   ]
  },
  {
   "cell_type": "markdown",
   "metadata": {},
   "source": [
    "## Q4: Same question as Q2, except now using Adam"
   ]
  },
  {
   "cell_type": "markdown",
   "metadata": {},
   "source": [
    "input dimension of the last linear layer is still 512"
   ]
  },
  {
   "cell_type": "code",
   "execution_count": null,
   "metadata": {},
   "outputs": [],
   "source": []
  }
 ],
 "metadata": {
  "kernelspec": {
   "display_name": "Python 3",
   "language": "python",
   "name": "python3"
  },
  "language_info": {
   "codemirror_mode": {
    "name": "ipython",
    "version": 3
   },
   "file_extension": ".py",
   "mimetype": "text/x-python",
   "name": "python",
   "nbconvert_exporter": "python",
   "pygments_lexer": "ipython3",
   "version": "3.6.2"
  }
 },
 "nbformat": 4,
 "nbformat_minor": 2
}
