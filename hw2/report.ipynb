{
 "cells": [
  {
   "cell_type": "markdown",
   "metadata": {},
   "source": [
    "## Q1: How many convolutional layers are in the ResNet-18 model ?\n",
    "\n",
    "Ans - 20"
   ]
  },
  {
   "cell_type": "markdown",
   "metadata": {},
   "source": [
    "## Q2: What is the input dimension of the last linear layer ?\n",
    "\n",
    "Ans - 512"
   ]
  },
  {
   "cell_type": "markdown",
   "metadata": {},
   "source": [
    "## Q3: How many trainable parameters and how many gradients in the ResNet-18 model that you build when using SGD"
   ]
  },
  {
   "cell_type": "code",
   "execution_count": 1,
   "metadata": {},
   "outputs": [],
   "source": [
    "from resnet import *\n",
    "import torch\n",
    "from torch.optim import SGD,  Adam\n",
    "import torch.nn.functional as F\n",
    "import matplotlib.pyplot as plt\n",
    "import numpy as np\n",
    "\n",
    "def get_params(lis):\n",
    "    return sum(p.numel() for p in lis if p.requires_grad)\n",
    "\n",
    "def get_gradients(lis):\n",
    "    return sum(p.grad.numel() for p in lis if p.requires_grad)"
   ]
  },
  {
   "cell_type": "markdown",
   "metadata": {},
   "source": [
    "To get the number of  gradients, backprop needs to be done atleast once"
   ]
  },
  {
   "cell_type": "code",
   "execution_count": 2,
   "metadata": {},
   "outputs": [
    {
     "name": "stdout",
     "output_type": "stream",
     "text": [
      "Number of trainable parameters are 11173962\n",
      "Number of gradients are 11173962\n"
     ]
    }
   ],
   "source": [
    "net = ResNet18()\n",
    "\n",
    "inp = torch.ones(64, 3, 32, 32)\n",
    "labels = torch.ones(64).long()\n",
    "\n",
    "opt_sgd = SGD(net.parameters(), lr = 0.01)\n",
    "\n",
    "out = net(inp)\n",
    "loss = F.cross_entropy(out, labels)\n",
    "\n",
    "opt_sgd.zero_grad()\n",
    "loss.backward()\n",
    "opt_sgd.step()\n",
    "print('Number of trainable parameters are',get_params(opt_sgd.param_groups[0]['params']))\n",
    "print('Number of gradients are',get_gradients(opt_sgd.param_groups[0]['params']))"
   ]
  },
  {
   "cell_type": "markdown",
   "metadata": {},
   "source": [
    "## Q4: Same question as Q3, except now using Adam"
   ]
  },
  {
   "cell_type": "code",
   "execution_count": 3,
   "metadata": {},
   "outputs": [
    {
     "name": "stdout",
     "output_type": "stream",
     "text": [
      "Number of trainable parameters are 11173962\n",
      "Number of gradients are 11173962\n"
     ]
    }
   ],
   "source": [
    "net = ResNet18()\n",
    "\n",
    "inp = torch.ones(64, 3, 32, 32)\n",
    "labels = torch.ones(64).long()\n",
    "\n",
    "opt = Adam(net.parameters(), lr = 0.01)\n",
    "\n",
    "out = net(inp)\n",
    "loss = F.cross_entropy(out, labels)\n",
    "\n",
    "opt_sgd.zero_grad()\n",
    "loss.backward()\n",
    "opt.step()\n",
    "print('Number of trainable parameters are',get_params(opt.param_groups[0]['params']))\n",
    "print('Number of gradients are',get_gradients(opt.param_groups[0]['params']))"
   ]
  },
  {
   "cell_type": "markdown",
   "metadata": {},
   "source": [
    "## C3  I/O optimization starting from code in C2\n",
    "Report the total time spent waiting for the Dataloader varying the number of workers starting from zero and increment the number of workers by 4"
   ]
  },
  {
   "cell_type": "code",
   "execution_count": 4,
   "metadata": {},
   "outputs": [
    {
     "data": {
      "image/png": "[encoded data removed]",
      "text/plain": [
       "<Figure size 576x576 with 1 Axes>"
      ]
     },
     "metadata": {
      "needs_background": "light"
     },
     "output_type": "display_data"
    }
   ],
   "source": [
    "workers = [0,4,8,12,16,20]\n",
    "dataloading_time = [7.86, 0.38, 0.4,0.4, 0.46, 0.49 ]\n",
    "\n",
    "y_pos = np.arange(len(workers))\n",
    "\n",
    "plt.figure(figsize = (8,8))\n",
    "plt.bar(y_pos, dataloading_time, align = 'center')\n",
    "plt.xticks(y_pos, workers)\n",
    "plt.xlabel('Num of workers')\n",
    "plt.ylabel('Avg dataloading time in sec')\n",
    " \n",
    "for i in range(len(workers)):\n",
    "    plt.text(x = y_pos[i] - 0.2 , y = dataloading_time[i]+0.1, s = str(dataloading_time[i]), size = 10)\n",
    "plt.show()\n"
   ]
  },
  {
   "cell_type": "markdown",
   "metadata": {},
   "source": [
    "4 workers are needed for the best performance"
   ]
  },
  {
   "cell_type": "markdown",
   "metadata": {},
   "source": [
    "## C4\n",
    "Visualize the data-loading time, computing time for these two runs and explain (in few words) the\n",
    "differences"
   ]
  },
  {
   "cell_type": "code",
   "execution_count": 5,
   "metadata": {},
   "outputs": [],
   "source": [
    "data_loading = [0.36, 0.38]\n",
    "epoch_time = [29.87, 30.3]"
   ]
  },
  {
   "cell_type": "code",
   "execution_count": 6,
   "metadata": {},
   "outputs": [
    {
     "data": {
      "image/png": "[encoded data removed]",
      "text/plain": [
       "<Figure size 576x576 with 1 Axes>"
      ]
     },
     "metadata": {
      "needs_background": "light"
     },
     "output_type": "display_data"
    }
   ],
   "source": [
    "w1 = [0.36, 29.87]\n",
    "w4 = [0.38,30.3]\n",
    "\n",
    "ind = np.arange(2) \n",
    "width = 0.35   \n",
    "plt.figure(figsize = (8,8))\n",
    "plt.bar(ind, w1, width, label='1 worker')\n",
    "plt.bar(ind + width, w4, width,\n",
    "    label='4 workers')\n",
    "\n",
    "plt.ylabel('Time in sec')\n",
    "plt.title('1 worker vs 4 workers')\n",
    "\n",
    "for i in range(len(w1)):\n",
    "    plt.text(x = ind[i] - 0.05 , y = w1[i]+0.1, s = str(w1[i]), size = 10)\n",
    "    plt.text(x = ind[i] + width / 2 + 0.1 , y = w4[i]+0.1, s = str(w4[i]), size = 10)\n",
    "\n",
    "plt.xticks(ind + width / 2, ('DataLoading', 'Compute (epoch time)'))\n",
    "plt.legend(loc='best')\n",
    "plt.show()"
   ]
  },
  {
   "cell_type": "markdown",
   "metadata": {},
   "source": [
    "Both dataloading time and compute time are almost the same for workers = 1 and workers = 4. "
   ]
  },
  {
   "cell_type": "code",
   "execution_count": null,
   "metadata": {},
   "outputs": [],
   "source": []
  }
 ],
 "metadata": {
  "kernelspec": {
   "display_name": "Python 3",
   "language": "python",
   "name": "python3"
  },
  "language_info": {
   "codemirror_mode": {
    "name": "ipython",
    "version": 3
   },
   "file_extension": ".py",
   "mimetype": "text/x-python",
   "name": "python",
   "nbconvert_exporter": "python",
   "pygments_lexer": "ipython3",
   "version": "3.6.8"
  }
 },
 "nbformat": 4,
 "nbformat_minor": 2
}
